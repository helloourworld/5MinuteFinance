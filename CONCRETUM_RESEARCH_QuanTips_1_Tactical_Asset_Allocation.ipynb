{
  "cells": [
    {
      "cell_type": "markdown",
      "metadata": {
        "id": "view-in-github",
        "colab_type": "text"
      },
      "source": [
        "<a href=\"https://colab.research.google.com/github/helloourworld/5MinuteFinance/blob/master/CONCRETUM_RESEARCH_QuanTips_1_Tactical_Asset_Allocation.ipynb\" target=\"_parent\"><img src=\"https://colab.research.google.com/assets/colab-badge.svg\" alt=\"Open In Colab\"/></a>"
      ]
    },
    {
      "cell_type": "markdown",
      "id": "1f7cbf02",
      "metadata": {
        "id": "1f7cbf02"
      },
      "source": [
        "# Global Tactical Asset Allocation\n",
        "\n",
        "**Updated Results and Real-Market Implementation**  \n",
        "[**Mohamed Gabriel**](https://www.linkedin.com/in/msmgabriel/), [**Alberto Pagani**](https://www.linkedin.com/in/alberto-pagani-a36075209/), [**Carlo Zarattini**](https://www.linkedin.com/in/carlozarattini/)  \n",
        "*QuanTips #1 — April 2025*  \n",
        "[www.concretumgroup.com](https://www.concretumgroup.com) | info@concretumgroup.com\n",
        "\n",
        "---\n",
        "\n",
        "This notebook presents an updated implementation of the trend-following Tactical Asset Allocation strategy introduced by Meb Faber in *A Quantitative Approach to Tactical Asset Allocation* (2006). Using adjusted price data through March 2025, we evaluate the strategy's signals and simulate allocations across a diversified ETF universe.\n",
        "\n",
        "Users can export their trade orders as a Trader Workstation-compatible basket file or automate execution via the Interactive Brokers API.\n",
        "\n",
        "This notebook enables you to:\n",
        "\n",
        "- Generate trend-following signals using a 200-day simple moving average (SMA)  \n",
        "- Allocate capital across ETFs with equal weighting among active signals  \n",
        "- Calculate precise trade instructions based on current holdings  \n",
        "- Export and transmit Market-On-Close (MOC) orders via IBKR  \n",
        "- Automate the full pipeline using free data from Polygon.io"
      ]
    },
    {
      "cell_type": "markdown",
      "id": "f5fc1735",
      "metadata": {
        "id": "f5fc1735"
      },
      "source": [
        "## Step 0: Initial Setup (API Key, Tier, Packages, Imports)\n"
      ]
    },
    {
      "cell_type": "markdown",
      "id": "ab284d26",
      "metadata": {
        "id": "ab284d26"
      },
      "source": [
        "### 1. Insert Your Polygon.io API Key\n",
        "Replace the placeholder value in the cell below with your actual API key:\n"
      ]
    },
    {
      "cell_type": "code",
      "execution_count": null,
      "id": "f8567457",
      "metadata": {
        "id": "f8567457"
      },
      "outputs": [],
      "source": [
        "POLYGON_API_KEY = 'Polygon.io Logo'"
      ]
    },
    {
      "cell_type": "markdown",
      "id": "03ae3316",
      "metadata": {
        "id": "03ae3316"
      },
      "source": [
        "### 2. Set Subscription Tier\n",
        "Set `POLYGON_SUBSCRIPTION_PAID = False` if you're on the **free** tier.  \n",
        "Set `POLYGON_SUBSCRIPTION_PAID = True` if you have a **paid** plan."
      ]
    },
    {
      "cell_type": "code",
      "execution_count": null,
      "id": "ad4a0830",
      "metadata": {
        "id": "ad4a0830"
      },
      "outputs": [],
      "source": [
        "POLYGON_SUBSCRIPTION_PAID = True"
      ]
    },
    {
      "cell_type": "markdown",
      "id": "3e0589d3",
      "metadata": {
        "id": "3e0589d3"
      },
      "source": [
        "### 3. Install Required Packages"
      ]
    },
    {
      "cell_type": "code",
      "execution_count": null,
      "id": "86aefa5c",
      "metadata": {
        "id": "86aefa5c"
      },
      "outputs": [],
      "source": [
        "!pip install ipywidgets pandas numpy requests matplotlib ib_async"
      ]
    },
    {
      "cell_type": "markdown",
      "id": "888fb0a4",
      "metadata": {
        "id": "888fb0a4"
      },
      "source": [
        "### 4.  Import Required Libraries"
      ]
    },
    {
      "cell_type": "code",
      "execution_count": null,
      "id": "33b93ad5",
      "metadata": {
        "id": "33b93ad5"
      },
      "outputs": [],
      "source": [
        "import ipywidgets as widgets\n",
        "from IPython.display import display, clear_output\n",
        "\n",
        "\n",
        "import time\n",
        "from functools import wraps\n",
        "\n",
        "\n",
        "import pandas as pd\n",
        "import numpy as np\n",
        "import requests\n",
        "from datetime import datetime, timedelta\n",
        "\n",
        "\n",
        "import matplotlib.pyplot as plt\n",
        "from matplotlib.dates import DateFormatter\n",
        "\n",
        "import csv\n",
        "\n",
        "from ib_async import IB, Stock, Order, util\n"
      ]
    },
    {
      "cell_type": "markdown",
      "id": "5381126f",
      "metadata": {
        "id": "5381126f"
      },
      "source": [
        "# Step 1: Portfolio Configuration\n",
        "\n",
        "Use the interactive widgets below to input:\n",
        "- Total portfolio AUM  \n",
        "- Current holdings for each ETF  \n",
        "\n",
        "This data will be used to compute rebalancing instructions based on current market conditions."
      ]
    },
    {
      "cell_type": "code",
      "execution_count": null,
      "id": "d6de4b9e",
      "metadata": {
        "id": "d6de4b9e"
      },
      "outputs": [],
      "source": [
        "import ipywidgets as widgets\n",
        "from IPython.display import display\n",
        "\n",
        "tickers = [\"SPY\", \"EFA\", \"IEF\", \"VNQ\", \"DBC\", \"SHV\"]\n",
        "\n",
        "print(\"=== Portfolio Setup ===\")\n",
        "\n",
        "aum_widget = widgets.FloatText(\n",
        "    value=100000.0,\n",
        "    description='AUM ($):',\n",
        "    style={'description_width': '100px'},\n",
        "    step=1000,\n",
        "    layout=widgets.Layout(width='300px')\n",
        ")\n",
        "\n",
        "share_widgets = {\n",
        "    ticker: widgets.FloatText(\n",
        "        value=100 if ticker != \"SHV\" else 0,\n",
        "        description=f\"{ticker} Shares:\",\n",
        "        style={'description_width': '100px'},\n",
        "        layout=widgets.Layout(width='300px')\n",
        "    )\n",
        "    for ticker in tickers\n",
        "}\n",
        "\n",
        "output = widgets.Output()\n",
        "\n",
        "portfolio_state = {\n",
        "    \"aum\": None,\n",
        "    \"tickers_data\": []\n",
        "}\n",
        "\n",
        "def on_submit_clicked(b):\n",
        "    output.clear_output()\n",
        "    with output:\n",
        "        aum = aum_widget.value\n",
        "        tickers_data = [\n",
        "            {\"ticker\": t, \"current_shares\": share_widgets[t].value}\n",
        "            for t in tickers\n",
        "        ]\n",
        "        portfolio_state[\"aum\"] = aum\n",
        "        portfolio_state[\"tickers_data\"] = tickers_data\n",
        "        print(\"Inputs submitted. Ready to fetch data and compute signals.\")\n",
        "        print(f\"AUM: ${aum:,.2f}\")\n",
        "        for t in tickers_data:\n",
        "            print(f\"{t['ticker']}: {t['current_shares']} shares\")\n",
        "\n",
        "submit_button = widgets.Button(\n",
        "    description=\"Submit Portfolio\",\n",
        "    button_style='success',\n",
        "    layout=widgets.Layout(width='300px')\n",
        ")\n",
        "submit_button.on_click(on_submit_clicked)\n",
        "\n",
        "col1 = widgets.VBox(list(share_widgets.values())[:3])\n",
        "col2 = widgets.VBox(list(share_widgets.values())[3:])\n",
        "form_layout = widgets.VBox([\n",
        "    aum_widget,\n",
        "    widgets.HBox([col1, col2]),\n",
        "    submit_button,\n",
        "    output\n",
        "])\n",
        "display(form_layout)\n"
      ]
    },
    {
      "cell_type": "markdown",
      "id": "dc6666fc",
      "metadata": {
        "id": "dc6666fc"
      },
      "source": [
        "# Step 2: Fetch and Adjust Market Data\n",
        "\n",
        "We use the Polygon.io API to:\n",
        "- Retrieve historical daily price data  \n",
        "- Apply dividends and stock split adjustments  \n",
        "- Compute adjusted total return prices for SMA signal generation  \n"
      ]
    },
    {
      "cell_type": "code",
      "execution_count": null,
      "id": "31afedb2",
      "metadata": {
        "id": "31afedb2"
      },
      "outputs": [],
      "source": [
        "end_date = datetime.now().date()\n",
        "start_date = end_date - timedelta(days=365)\n",
        "from_date = start_date.strftime('%Y-%m-%d')\n",
        "to_date = end_date.strftime('%Y-%m-%d')\n",
        "today = end_date.strftime('%Y-%m-%d')\n",
        "\n",
        "\n",
        "# --- Rate Limiting for Polygon Free Tier ---\n",
        "last_request_time = [0]\n",
        "\n",
        "def rate_limit(func):\n",
        "    @wraps(func)\n",
        "    def wrapper(*args, **kwargs):\n",
        "        if not POLYGON_SUBSCRIPTION_PAID:\n",
        "            elapsed = time.time() - last_request_time[0]\n",
        "            min_interval = 12  # 5 requests/minute = 12 sec/request\n",
        "            if elapsed < min_interval:\n",
        "                wait_time = min_interval - elapsed\n",
        "                print(f\"[Rate Limit] Sleeping for {wait_time:.2f} seconds...\")\n",
        "                time.sleep(wait_time)\n",
        "        result = func(*args, **kwargs)\n",
        "        last_request_time[0] = time.time()\n",
        "        return result\n",
        "    return wrapper\n",
        "\n",
        "@rate_limit\n",
        "def polygon_daily(ticker, start_date, end_date):\n",
        "    url = f\"https://api.polygon.io/v2/aggs/ticker/{ticker}/range/1/day/{start_date}/{end_date}?adjusted=true&sort=asc&limit=50000&apiKey={POLYGON_API_KEY}\"\n",
        "    response = requests.get(url)\n",
        "    data = response.json()\n",
        "\n",
        "    if 'results' not in data or not data['results']:\n",
        "        return pd.DataFrame()\n",
        "\n",
        "    df = pd.DataFrame(data['results'])\n",
        "    df['date'] = pd.to_datetime(df['t'], unit='ms')\n",
        "    df = df.rename(columns={\n",
        "        'o': 'open',\n",
        "        'h': 'high',\n",
        "        'l': 'low',\n",
        "        'c': 'close',\n",
        "        'v': 'volume',\n",
        "        'vw': 'vwap',\n",
        "        'n': 'num_trades'\n",
        "    })\n",
        "\n",
        "    return df[['date', 'open', 'high', 'low', 'close', 'volume', 'vwap', 'num_trades']]\n",
        "\n",
        "@rate_limit\n",
        "def polygon_splits(ticker):\n",
        "    url = f\"https://api.polygon.io/v3/reference/splits?ticker={ticker}&limit=1000&apiKey={POLYGON_API_KEY}\"\n",
        "    response = requests.get(url)\n",
        "    data = response.json()\n",
        "\n",
        "    if 'results' not in data or not data['results']:\n",
        "        return pd.DataFrame()\n",
        "\n",
        "    df = pd.DataFrame(data['results'])\n",
        "    df = df[['execution_date', 'split_from', 'split_to']]\n",
        "    df['execution_date'] = pd.to_datetime(df['execution_date'])\n",
        "    df = df.sort_values('execution_date')\n",
        "    df['split_ratio'] = df['split_to'] / df['split_from']\n",
        "    return df.reset_index(drop=True)\n",
        "\n",
        "\n",
        "@rate_limit\n",
        "def polygon_dividends(ticker):\n",
        "    url = f\"https://api.polygon.io/v3/reference/dividends?ticker={ticker}&limit=1000&apiKey={POLYGON_API_KEY}\"\n",
        "    response = requests.get(url)\n",
        "    data = response.json()\n",
        "\n",
        "    if 'results' not in data or not data['results']:\n",
        "        return pd.DataFrame()\n",
        "\n",
        "    df = pd.DataFrame(data['results'])\n",
        "    df = df[['ex_dividend_date', 'cash_amount']]\n",
        "    df['ex_dividend_date'] = pd.to_datetime(df['ex_dividend_date'])\n",
        "    df = df.sort_values('ex_dividend_date')\n",
        "    return df.reset_index(drop=True)\n",
        "\n",
        "\n",
        "def apply_corporate_actions(df, splits, dividends):\n",
        "    if df.empty:\n",
        "        return df\n",
        "\n",
        "    df = df.copy()\n",
        "    df['split'] = 0.0\n",
        "    df['dividend_raw'] = 0.0\n",
        "\n",
        "    for _, row in splits.iterrows():\n",
        "        ex_date = row['execution_date'].date()\n",
        "        idx = (df['date'].dt.date - ex_date).abs().idxmin()\n",
        "        if abs((df.loc[idx, 'date'].date() - ex_date).days) < 1:\n",
        "            df.loc[idx, 'split'] = row['split_to'] / row['split_from']\n",
        "\n",
        "    for _, row in dividends.iterrows():\n",
        "        ex_date = row['ex_dividend_date'].date()\n",
        "        idx = (df['date'].dt.date - ex_date).abs().idxmin()\n",
        "        if abs((df.loc[idx, 'date'].date() - ex_date).days) < 1:\n",
        "            df.loc[idx, 'dividend_raw'] = row['cash_amount']\n",
        "\n",
        "    split_ratio = df['split'].replace(0, 1).values\n",
        "    split_adj = np.roll(np.flip(np.cumprod(np.flip(split_ratio))), -1)\n",
        "    split_adj[-1] = 1.0\n",
        "\n",
        "    df['open_'] = df['open'] * split_adj\n",
        "    df['high_'] = df['high'] * split_adj\n",
        "    df['low_'] = df['low'] * split_adj\n",
        "    df['close_'] = df['close'] * split_adj\n",
        "    df['dividend'] = df['dividend_raw'] / split_adj\n",
        "\n",
        "    df['daily_move_1d'] = df['close'].diff(1)\n",
        "    df['tot_ret_1d'] = (df['daily_move_1d'] + df['dividend']) / df['close'].shift(1)\n",
        "\n",
        "    factor = np.flip(df['tot_ret_1d'].values)\n",
        "    factor = np.nancumprod(1 + factor)\n",
        "    factor = np.concatenate(([1], factor[:-1]))\n",
        "    factor = 1 / factor\n",
        "    factor = np.flip(factor)\n",
        "\n",
        "    df['adjclose'] = df['close'].iloc[-1] * factor\n",
        "\n",
        "    return df\n",
        "\n",
        "def polygon(ticker, start_date, end_date):\n",
        "    df = polygon_daily(ticker, start_date, end_date)\n",
        "    splits = polygon_splits(ticker)\n",
        "    dividends = polygon_dividends(ticker)\n",
        "    df = apply_corporate_actions(df, splits, dividends)\n",
        "    return df\n"
      ]
    },
    {
      "cell_type": "markdown",
      "id": "4b1824c8",
      "metadata": {
        "id": "4b1824c8"
      },
      "source": [
        "# Step 3: Signal Generation, Allocation, and Trade Planning\n",
        "\n",
        "This step:\n",
        "- Calculates a 200-day SMA for each ETF  \n",
        "- Generates binary trend signals (1 = Long, 0 = Flat)  \n",
        "- Allocates equal weights to active signals  \n",
        "- Calculates the ideal number of shares to hold  \n",
        "- Computes trade instructions (buy/sell delta from current positions)  \n",
        "- Plots each ETF with price and trend overlay  \n"
      ]
    },
    {
      "cell_type": "code",
      "execution_count": null,
      "id": "9bda2c00",
      "metadata": {
        "id": "9bda2c00"
      },
      "outputs": [],
      "source": [
        "basket = []\n",
        "tickers_data = portfolio_state[\"tickers_data\"]\n",
        "AUM = portfolio_state[\"aum\"]\n",
        "\n",
        "for tdata in tickers_data:\n",
        "    ticker = tdata[\"ticker\"]\n",
        "    current_shares = tdata[\"current_shares\"]\n",
        "\n",
        "    data = polygon(ticker, from_date, to_date)\n",
        "\n",
        "    if data.empty:\n",
        "        continue\n",
        "\n",
        "    data['sma'] = data['adjclose'].rolling(window=200, min_periods=200).mean()\n",
        "\n",
        "    is_today = data['date'].iloc[-1].strftime('%Y-%m-%d') == today\n",
        "    signal_data = data.iloc[:-1] if is_today else data\n",
        "\n",
        "    signal_price = signal_data['adjclose'].iloc[-1]\n",
        "\n",
        "    last_price = data['adjclose'].iloc[-1]\n",
        "\n",
        "    sma_value = signal_data['sma'].dropna().iloc[-1] if not signal_data['sma'].dropna().empty else None\n",
        "\n",
        "    if ticker == \"SHV\":\n",
        "        signal = 1\n",
        "    else:\n",
        "        signal = int(signal_price > sma_value) if sma_value is not None else 0\n",
        "\n",
        "    latest_date = data['date'].iloc[-1]\n",
        "    plt.figure(figsize=(12, 6))\n",
        "    plt.plot(data['date'], data['adjclose'], linewidth=1.5, label=f'{ticker} Close Price')\n",
        "    plt.plot(data['date'], data['sma'], linestyle='--', linewidth=1.5, label='200-day SMA')\n",
        "\n",
        "    if ticker == \"SHV\":\n",
        "        plt.scatter([latest_date], [last_price], color='green', s=100, zorder=5, label='Long (Cash Position)')\n",
        "    elif signal == 1:\n",
        "        plt.scatter([latest_date], [last_price], color='green', s=100, zorder=5, label='Long (Price > SMA)')\n",
        "    else:\n",
        "        plt.scatter([latest_date], [last_price], color='red', s=100, zorder=5, label='Flat (Price < SMA)')\n",
        "\n",
        "    plt.title(f'{ticker} Price with 200-day SMA')\n",
        "    plt.xlabel('Date')\n",
        "    plt.ylabel('Price ($)')\n",
        "    plt.grid(True, alpha=0.3)\n",
        "    plt.gca().xaxis.set_major_formatter(DateFormatter('%Y-%m'))\n",
        "    plt.gcf().autofmt_xdate()\n",
        "\n",
        "    textstr = f'Current Price: ${last_price:.2f}\\nSMA-200: ${sma_value:.2f}'\n",
        "    props = dict(boxstyle='round', facecolor='white', alpha=0.8, edgecolor='black')\n",
        "    plt.text(0.05, 0.95, textstr, transform=plt.gca().transAxes, fontsize=10,\n",
        "             verticalalignment='top', bbox=props)\n",
        "\n",
        "    plt.legend(loc='best')\n",
        "    plt.tight_layout()\n",
        "    plt.show()\n",
        "\n",
        "    if ticker == \"SHV\":\n",
        "        AUM_left = AUM - sum([b[\"ideal_notional\"] for b in basket if \"ideal_notional\" in b])\n",
        "        weight = AUM_left / AUM if AUM > 0 else 0\n",
        "        ideal_shares = int(AUM_left / last_price)\n",
        "    else:\n",
        "        equal_weight = 1 / (len(tickers) - 1)\n",
        "        weight = equal_weight * signal\n",
        "        ideal_shares = int(equal_weight * (AUM * signal) / last_price)\n",
        "\n",
        "    tdata[\"yclose\"] = last_price\n",
        "    tdata[\"signal\"] = signal\n",
        "    tdata[\"weight\"] = weight\n",
        "    tdata[\"ideal_shares\"] = ideal_shares\n",
        "    tdata[\"shares_to_trade\"] = ideal_shares - current_shares\n",
        "    tdata[\"ideal_notional\"] = ideal_shares * last_price\n",
        "\n",
        "    basket.append(tdata)\n",
        "\n",
        "print(\"\\n==== Trend Following Strategy Results ====\\n\")\n",
        "print(f\"{'Ticker':<6} {'Signal':<6} {'Price':<8} {'Weight':<8} {'Current':<8} {'Ideal':<8} {'Trade':<8} {'Notional':<12}\")\n",
        "print(\"-\" * 70)\n",
        "for t in basket:\n",
        "    print(f\"{t['ticker']:<6} {int(t['signal']):<6} ${t['yclose']:<7.2f} {t['weight']:<8.2%} {int(t['current_shares']):<8} {t['ideal_shares']:<8} {int(t['shares_to_trade']):+<8} ${t['ideal_notional']:<11.2f}\")"
      ]
    },
    {
      "cell_type": "markdown",
      "id": "738cbc7d",
      "metadata": {
        "id": "738cbc7d"
      },
      "source": [
        "# Step 4: Generate IBKR Basket File\n",
        "\n",
        "Creates a `.csv` file that includes Market-On-Close (MOC) orders compatible with Trader Workstation's Basket Trader feature.  \n",
        "**Make sure to enter your actual IB account ID in the `IB_ACCOUNT` variable below (e.g., \"DU1234567\").**  \n",
        "This file can now be submitted manually using Trader Workstation’s Basket Trader tool (see Step 5 below), or you can automate it in Step 6.\n"
      ]
    },
    {
      "cell_type": "code",
      "execution_count": null,
      "id": "7f10f1b8",
      "metadata": {
        "id": "7f10f1b8"
      },
      "outputs": [],
      "source": [
        "# Replace this with your actual IB account ID (e.g., \"DU1234567\")\n",
        "IB_ACCOUNT = \"DUxxxxxxx\"\n",
        "csv_filename = \"ibkr_basket_orders.csv\"\n",
        "\n",
        "ibkr_fields = [\n",
        "    \"Action\", \"Quantity\", \"Symbol\", \"SecType\", \"Exchange\", \"Currency\",\n",
        "    \"TimeInForce\", \"OrderType\", \"LmtPrice\", \"BasketTag\", \"Account\",\n",
        "    \"OutsideRTH\", \"OrderRef\", \"LastTradingDayOrContractMonth\",\n",
        "    \"Strike\", \"Right\", \"DivPrt\", \"Multiplier\"\n",
        "]\n",
        "\n",
        "with open(csv_filename, mode='w', newline='') as file:\n",
        "    writer = csv.DictWriter(file, fieldnames=ibkr_fields)\n",
        "    writer.writeheader()\n",
        "\n",
        "    for t in basket:\n",
        "        qty = int(t[\"shares_to_trade\"])\n",
        "        if qty == 0:\n",
        "            continue\n",
        "\n",
        "        writer.writerow({\n",
        "            \"Action\": \"BUY\" if qty > 0 else \"SELL\",\n",
        "            \"Quantity\": abs(qty),\n",
        "            \"Symbol\": t[\"ticker\"],\n",
        "            \"SecType\": \"STK\",\n",
        "            \"Exchange\": \"SMART/ARCA\",\n",
        "            \"Currency\": \"USD\",\n",
        "            \"TimeInForce\": \"DAY\",\n",
        "            \"OrderType\": \"MOC\",\n",
        "            \"LmtPrice\": \"\",\n",
        "            \"BasketTag\": \"Basket\",\n",
        "            \"Account\": IB_ACCOUNT,\n",
        "            \"OutsideRTH\": \"TRUE\",\n",
        "            \"OrderRef\": \"Basket\",\n",
        "            \"LastTradingDayOrContractMonth\": \"\",\n",
        "            \"Strike\": \"\",\n",
        "            \"Right\": \"\",\n",
        "            \"DivPrt\": \"\",\n",
        "            \"Multiplier\": \"\"\n",
        "        })\n",
        "\n",
        "print(f\"\\nIBKR basket file saved: {csv_filename}\")"
      ]
    },
    {
      "cell_type": "markdown",
      "id": "9e80a630",
      "metadata": {
        "id": "9e80a630"
      },
      "source": [
        "# Step 5: Submit Orders via TWS (Manual Option)\n",
        "\n",
        "\n",
        "Instructions to manually upload and transmit the basket orders:\n",
        "1. Open Trader Workstation  \n",
        "2. Go to: New Window → Basket Trader  \n",
        "3. Browse and select the generated `.csv`  \n",
        "4. Load and review the orders  \n",
        "5. Click \"Transmit\" to submit them as a batch\n",
        "\n",
        "\n"
      ]
    },
    {
      "cell_type": "markdown",
      "id": "3d947687",
      "metadata": {
        "id": "3d947687"
      },
      "source": [
        "# Step 6: Submit Orders via IBKR API (Automated Option)\n",
        "\n",
        "> ⚠️ This step **must be run locally**. It **does not work on Google Colab**.\n",
        "\n",
        "Before using the IBKR API, make sure Trader Workstation (TWS) or IB Gateway is configured to accept API connections:\n",
        "\n",
        "1. Open **TWS** or **IB Gateway**\n",
        "2. Go to:  \n",
        "   **Configure → API → Settings**\n",
        "3. Enable the checkbox:  \n",
        "   **\"Enable ActiveX and Socket Clients\"**\n",
        "\n",
        "### Port Configuration\n",
        "\n",
        "Use the correct port based on your environment and platform:\n",
        "\n",
        "| Platform     | Mode           | Port  |\n",
        "|--------------|----------------|-------|\n",
        "| TWS          | Paper Trading  | 7497  |\n",
        "| TWS          | Live Trading   | 7496  |\n",
        "| IB Gateway   | Paper Trading  | 4002  |\n",
        "| IB Gateway   | Live Trading   | 4001  |\n",
        "\n",
        "---\n",
        "\n",
        "Use the IBKR API to:\n",
        "- Connect to Trader Workstation or IB Gateway  \n",
        "- Qualify contracts  \n",
        "- Submit Market-On-Close (MOC) orders automatically\n"
      ]
    },
    {
      "cell_type": "markdown",
      "id": "e8825f56",
      "metadata": {
        "id": "e8825f56"
      },
      "source": [
        "### 1. Connect to IBKR  \n",
        "Start the async event loop and establish a connection to your local TWS or IB Gateway instance.\n"
      ]
    },
    {
      "cell_type": "code",
      "execution_count": null,
      "id": "7fcd6d34",
      "metadata": {
        "id": "7fcd6d34"
      },
      "outputs": [],
      "source": [
        "util.startLoop()\n",
        "\n",
        "ib = IB()\n",
        "ib.connect('127.0.0.1', 7497, clientId=1)"
      ]
    },
    {
      "cell_type": "markdown",
      "id": "263d4bca",
      "metadata": {
        "id": "263d4bca"
      },
      "source": [
        "### 2. Qualify Contracts  \n",
        "Verify that each ETF ticker is a valid tradable instrument via IBKR’s system."
      ]
    },
    {
      "cell_type": "code",
      "execution_count": null,
      "id": "e3e7e71c",
      "metadata": {
        "id": "e3e7e71c"
      },
      "outputs": [],
      "source": [
        "tickers = [t[\"ticker\"] for t in basket]\n",
        "contracts = [Stock(ticker, 'SMART', 'USD') for ticker in tickers]\n",
        "ib.qualifyContracts(*contracts)\n",
        "contract_map = {contract.symbol: contract for contract in contracts}\n",
        "contract_map"
      ]
    },
    {
      "cell_type": "markdown",
      "id": "a8479d13",
      "metadata": {
        "id": "a8479d13"
      },
      "source": [
        "### 3. Submit Market-On-Close Orders  \n",
        "For each asset, send a market-on-close order (BUY or SELL) based on the calculated rebalance."
      ]
    },
    {
      "cell_type": "code",
      "execution_count": null,
      "id": "8eb2e6b4",
      "metadata": {
        "id": "8eb2e6b4"
      },
      "outputs": [],
      "source": [
        "print(\"WARNING: This will place LIVE Market-On-Close (MOC) orders via IBKR.\\n\")\n",
        "\n",
        "trades = []\n",
        "\n",
        "print(f\"{'TICKER':<10} {'ACTION':<6} {'QUANTITY':<10} {'ORDER ID':<10}\")\n",
        "print(\"-\" * 50)\n",
        "\n",
        "for item in basket:\n",
        "    ticker = item[\"ticker\"]\n",
        "    shares_to_trade = int(item[\"shares_to_trade\"])\n",
        "\n",
        "    if shares_to_trade == 0:\n",
        "        continue\n",
        "\n",
        "    contract = contract_map[ticker]\n",
        "    action = 'BUY' if shares_to_trade > 0 else 'SELL'\n",
        "    qty = abs(shares_to_trade)\n",
        "\n",
        "    order = Order(\n",
        "        action=action,\n",
        "        totalQuantity=qty,\n",
        "        orderType='MOC',\n",
        "        tif='DAY'\n",
        "    )\n",
        "\n",
        "    trade = ib.placeOrder(contract, order)\n",
        "\n",
        "    print(f\"{ticker:<10} {action:<6} {qty:<10} {trade.order.orderId:<10}\")\n",
        "    trades.append(trade)\n",
        "\n",
        "print(\"\\nAll Market-On-Close (MOC) orders have been submitted.\")\n"
      ]
    },
    {
      "cell_type": "code",
      "execution_count": null,
      "id": "4c7011b8",
      "metadata": {
        "id": "4c7011b8"
      },
      "outputs": [],
      "source": [
        "ib.disconnect()\n"
      ]
    }
  ],
  "metadata": {
    "kernelspec": {
      "display_name": "Python 3",
      "language": "python",
      "name": "python3"
    },
    "language_info": {
      "codemirror_mode": {
        "name": "ipython",
        "version": 3
      },
      "file_extension": ".py",
      "mimetype": "text/x-python",
      "name": "python",
      "nbconvert_exporter": "python",
      "pygments_lexer": "ipython3",
      "version": "3.12.4"
    },
    "colab": {
      "provenance": [],
      "include_colab_link": true
    }
  },
  "nbformat": 4,
  "nbformat_minor": 5
}